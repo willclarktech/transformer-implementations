{
	"cells": [
		{
			"cell_type": "code",
			"execution_count": 1,
			"id": "51cc72a6",
			"metadata": {},
			"outputs": [],
			"source": [
				"import transformer_implementations"
			]
		},
		{
			"cell_type": "code",
			"execution_count": 2,
			"id": "35fd42b4",
			"metadata": {},
			"outputs": [
				{
					"name": "stdout",
					"output_type": "stream",
					"text": [
						"Epoch Step:      1 | Accumulation Step:   2 | Loss:   3.46 | Tokens / Sec:  2422.9 | Learning Rate: 5.5e-06\n",
						"Epoch Step:      1 | Accumulation Step:   2 | Loss:   2.11 | Tokens / Sec:  2738.0 | Learning Rate: 6.1e-05\n",
						"Epoch Step:      1 | Accumulation Step:   2 | Loss:   1.70 | Tokens / Sec:  2730.5 | Learning Rate: 1.2e-04\n",
						"Epoch Step:      1 | Accumulation Step:   2 | Loss:   1.52 | Tokens / Sec:  2714.4 | Learning Rate: 1.7e-04\n",
						"Epoch Step:      1 | Accumulation Step:   2 | Loss:   1.02 | Tokens / Sec:  2724.9 | Learning Rate: 2.3e-04\n",
						"Epoch Step:      1 | Accumulation Step:   2 | Loss:   0.68 | Tokens / Sec:  2698.6 | Learning Rate: 2.8e-04\n",
						"Epoch Step:      1 | Accumulation Step:   2 | Loss:   0.29 | Tokens / Sec:  2618.6 | Learning Rate: 3.4e-04\n",
						"Epoch Step:      1 | Accumulation Step:   2 | Loss:   0.32 | Tokens / Sec:  2727.6 | Learning Rate: 3.9e-04\n",
						"Epoch Step:      1 | Accumulation Step:   2 | Loss:   0.19 | Tokens / Sec:  2716.2 | Learning Rate: 4.5e-04\n",
						"Epoch Step:      1 | Accumulation Step:   2 | Loss:   0.11 | Tokens / Sec:  2728.7 | Learning Rate: 5.0e-04\n",
						"Epoch Step:      1 | Accumulation Step:   2 | Loss:   0.10 | Tokens / Sec:  2716.5 | Learning Rate: 5.6e-04\n",
						"Epoch Step:      1 | Accumulation Step:   2 | Loss:   0.20 | Tokens / Sec:  2730.0 | Learning Rate: 6.1e-04\n",
						"Epoch Step:      1 | Accumulation Step:   2 | Loss:   0.10 | Tokens / Sec:  2632.4 | Learning Rate: 6.7e-04\n",
						"Epoch Step:      1 | Accumulation Step:   2 | Loss:   0.10 | Tokens / Sec:  2701.9 | Learning Rate: 7.2e-04\n",
						"Epoch Step:      1 | Accumulation Step:   2 | Loss:   0.18 | Tokens / Sec:  2712.9 | Learning Rate: 7.8e-04\n",
						"Epoch Step:      1 | Accumulation Step:   2 | Loss:   0.07 | Tokens / Sec:  2700.5 | Learning Rate: 8.3e-04\n",
						"Epoch Step:      1 | Accumulation Step:   2 | Loss:   0.24 | Tokens / Sec:  2713.0 | Learning Rate: 8.9e-04\n",
						"Epoch Step:      1 | Accumulation Step:   2 | Loss:   0.27 | Tokens / Sec:  2737.7 | Learning Rate: 9.4e-04\n",
						"Epoch Step:      1 | Accumulation Step:   2 | Loss:   0.10 | Tokens / Sec:  2729.4 | Learning Rate: 1.0e-03\n",
						"Epoch Step:      1 | Accumulation Step:   2 | Loss:   0.09 | Tokens / Sec:  2724.9 | Learning Rate: 1.1e-03\n",
						"tensor([[0, 1, 8, 2, 4, 5, 6, 7, 8, 9]])\n"
					]
				}
			],
			"source": [
				"transformer_implementations.run()"
			]
		},
		{
			"cell_type": "code",
			"execution_count": null,
			"id": "798371d1",
			"metadata": {},
			"outputs": [],
			"source": []
		}
	],
	"metadata": {
		"kernelspec": {
			"display_name": "Python 3 (ipykernel)",
			"language": "python",
			"name": "python3"
		},
		"language_info": {
			"codemirror_mode": {
				"name": "ipython",
				"version": 3
			},
			"file_extension": ".py",
			"mimetype": "text/x-python",
			"name": "python",
			"nbconvert_exporter": "python",
			"pygments_lexer": "ipython3",
			"version": "3.11.7"
		}
	},
	"nbformat": 4,
	"nbformat_minor": 5
}
