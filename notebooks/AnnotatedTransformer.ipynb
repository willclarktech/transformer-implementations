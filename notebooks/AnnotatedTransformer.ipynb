{
	"cells": [
		{
			"cell_type": "code",
			"execution_count": 1,
			"id": "51cc72a6",
			"metadata": {},
			"outputs": [],
			"source": [
				"import transformer_implementations"
			]
		},
		{
			"cell_type": "code",
			"execution_count": 2,
			"id": "35fd42b4",
			"metadata": {},
			"outputs": [
				{
					"name": "stdout",
					"output_type": "stream",
					"text": [
						"Epoch Step:      1 | Accumulation Step:   2 | Loss:   3.18 | Tokens / Sec:  2464.1 | Learning Rate: 5.5e-06\n",
						"Epoch Step:      1 | Accumulation Step:   2 | Loss:   2.20 | Tokens / Sec:  2764.0 | Learning Rate: 6.1e-05\n",
						"Epoch Step:      1 | Accumulation Step:   2 | Loss:   1.84 | Tokens / Sec:  2773.1 | Learning Rate: 1.2e-04\n",
						"Epoch Step:      1 | Accumulation Step:   2 | Loss:   1.50 | Tokens / Sec:  2735.0 | Learning Rate: 1.7e-04\n",
						"Epoch Step:      1 | Accumulation Step:   2 | Loss:   1.00 | Tokens / Sec:  2737.2 | Learning Rate: 2.3e-04\n",
						"Epoch Step:      1 | Accumulation Step:   2 | Loss:   0.62 | Tokens / Sec:  2740.9 | Learning Rate: 2.8e-04\n",
						"Epoch Step:      1 | Accumulation Step:   2 | Loss:   0.34 | Tokens / Sec:  2737.4 | Learning Rate: 3.4e-04\n",
						"Epoch Step:      1 | Accumulation Step:   2 | Loss:   0.22 | Tokens / Sec:  2753.6 | Learning Rate: 3.9e-04\n",
						"Epoch Step:      1 | Accumulation Step:   2 | Loss:   0.10 | Tokens / Sec:  2746.7 | Learning Rate: 4.5e-04\n",
						"Epoch Step:      1 | Accumulation Step:   2 | Loss:   0.21 | Tokens / Sec:  2762.6 | Learning Rate: 5.0e-04\n",
						"Epoch Step:      1 | Accumulation Step:   2 | Loss:   0.15 | Tokens / Sec:  2747.0 | Learning Rate: 5.6e-04\n",
						"Epoch Step:      1 | Accumulation Step:   2 | Loss:   0.13 | Tokens / Sec:  2716.6 | Learning Rate: 6.1e-04\n",
						"Epoch Step:      1 | Accumulation Step:   2 | Loss:   0.09 | Tokens / Sec:  2756.7 | Learning Rate: 6.7e-04\n",
						"Epoch Step:      1 | Accumulation Step:   2 | Loss:   0.19 | Tokens / Sec:  2721.9 | Learning Rate: 7.2e-04\n",
						"Epoch Step:      1 | Accumulation Step:   2 | Loss:   0.11 | Tokens / Sec:  2721.3 | Learning Rate: 7.8e-04\n",
						"Epoch Step:      1 | Accumulation Step:   2 | Loss:   0.11 | Tokens / Sec:  2692.0 | Learning Rate: 8.3e-04\n",
						"Epoch Step:      1 | Accumulation Step:   2 | Loss:   0.06 | Tokens / Sec:  2708.8 | Learning Rate: 8.9e-04\n",
						"Epoch Step:      1 | Accumulation Step:   2 | Loss:   0.25 | Tokens / Sec:  2710.2 | Learning Rate: 9.4e-04\n",
						"Epoch Step:      1 | Accumulation Step:   2 | Loss:   0.23 | Tokens / Sec:  2742.1 | Learning Rate: 1.0e-03\n",
						"Epoch Step:      1 | Accumulation Step:   2 | Loss:   0.12 | Tokens / Sec:  2724.4 | Learning Rate: 1.1e-03\n",
						"tensor([[0, 3, 2, 3, 4, 5, 6, 7, 8, 9]])\n"
					]
				}
			],
			"source": [
				"transformer_implementations.run_transformer()"
			]
		},
		{
			"cell_type": "code",
			"execution_count": null,
			"id": "798371d1",
			"metadata": {},
			"outputs": [],
			"source": []
		}
	],
	"metadata": {
		"kernelspec": {
			"display_name": "Python 3 (ipykernel)",
			"language": "python",
			"name": "python3"
		},
		"language_info": {
			"codemirror_mode": {
				"name": "ipython",
				"version": 3
			},
			"file_extension": ".py",
			"mimetype": "text/x-python",
			"name": "python",
			"nbconvert_exporter": "python",
			"pygments_lexer": "ipython3",
			"version": "3.11.7"
		}
	},
	"nbformat": 4,
	"nbformat_minor": 5
}
